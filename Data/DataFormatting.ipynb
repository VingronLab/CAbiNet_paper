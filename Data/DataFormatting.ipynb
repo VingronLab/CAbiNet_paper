{
 "cells": [
  {
   "cell_type": "code",
   "execution_count": 2,
   "id": "c22b8791-21a8-4e79-a09e-dbce07fe1b6d",
   "metadata": {},
   "outputs": [],
   "source": [
    "suppressPackageStartupMessages({\n",
    "    library(ggplot2)\n",
    "    library(ggsci)\n",
    "    library(SingleCellExperiment)\n",
    "    library(Matrix)\n",
    "    set.seed(1)\n",
    "    library(dplyr)\n",
    "    })"
   ]
  },
  {
   "cell_type": "markdown",
   "id": "ab1047f3-e8b2-41ec-8aaf-8bffcaea54c0",
   "metadata": {},
   "source": [
    "# Tirosh dataset\n",
    "This data set is downloaded from https://www.ncbi.nlm.nih.gov/geo/query/acc.cgi?acc=GSE72056.\n",
    "The annotation 'txt' file can also be found from this website."
   ]
  },
  {
   "cell_type": "code",
   "execution_count": 3,
   "id": "25a51bc5-fbd3-497a-b1c8-c772b2dd8a3c",
   "metadata": {},
   "outputs": [],
   "source": [
    "# data = read.csv('/project/CorrAnalysis/02.Projects/data/rawdata/Tirosh_GSE72056_melanoma_single_cell_revised_v2.txt', sep = '\\t')\n",
    "data = read.csv('./download_raw_data_scripts/Tirosh_GSE72056_melanoma_single_cell_revised_v2.txt', sep = '\\t')"
   ]
  },
  {
   "cell_type": "code",
   "execution_count": 4,
   "id": "87e52bfd-7f78-4807-bbc0-e64d1434345c",
   "metadata": {},
   "outputs": [
    {
     "data": {
      "text/html": [
       "<table class=\"dataframe\">\n",
       "<caption>A data.frame: 6 × 4646</caption>\n",
       "<thead>\n",
       "\t<tr><th></th><th scope=col>Cell</th><th scope=col>Cy72_CD45_H02_S758_comb</th><th scope=col>CY58_1_CD45_B02_S974_comb</th><th scope=col>Cy71_CD45_D08_S524_comb</th><th scope=col>Cy81_FNA_CD45_B01_S301_comb</th><th scope=col>Cy80_II_CD45_B07_S883_comb</th><th scope=col>Cy81_Bulk_CD45_B10_S118_comb</th><th scope=col>Cy72_CD45_D09_S717_comb</th><th scope=col>Cy74_CD45_A03_S387_comb</th><th scope=col>Cy71_CD45_B05_S497_comb</th><th scope=col>⋯</th><th scope=col>CY75_1_CD45_CD8_7__S265_comb</th><th scope=col>CY75_1_CD45_CD8_3__S127_comb</th><th scope=col>CY75_1_CD45_CD8_1__S61_comb</th><th scope=col>CY75_1_CD45_CD8_1__S12_comb</th><th scope=col>CY75_1_CD45_CD8_1__S25_comb</th><th scope=col>CY75_1_CD45_CD8_7__S223_comb</th><th scope=col>CY75_1_CD45_CD8_1__S65_comb</th><th scope=col>CY75_1_CD45_CD8_1__S93_comb</th><th scope=col>CY75_1_CD45_CD8_1__S76_comb</th><th scope=col>CY75_1_CD45_CD8_7__S274_comb</th></tr>\n",
       "\t<tr><th></th><th scope=col>&lt;chr&gt;</th><th scope=col>&lt;dbl&gt;</th><th scope=col>&lt;dbl&gt;</th><th scope=col>&lt;dbl&gt;</th><th scope=col>&lt;dbl&gt;</th><th scope=col>&lt;dbl&gt;</th><th scope=col>&lt;dbl&gt;</th><th scope=col>&lt;dbl&gt;</th><th scope=col>&lt;dbl&gt;</th><th scope=col>&lt;dbl&gt;</th><th scope=col>⋯</th><th scope=col>&lt;dbl&gt;</th><th scope=col>&lt;dbl&gt;</th><th scope=col>&lt;dbl&gt;</th><th scope=col>&lt;dbl&gt;</th><th scope=col>&lt;dbl&gt;</th><th scope=col>&lt;dbl&gt;</th><th scope=col>&lt;dbl&gt;</th><th scope=col>&lt;dbl&gt;</th><th scope=col>&lt;dbl&gt;</th><th scope=col>&lt;dbl&gt;</th></tr>\n",
       "</thead>\n",
       "<tbody>\n",
       "\t<tr><th scope=row>1</th><td>tumor                                                       </td><td>72.0000</td><td>58.0000</td><td>71.0000</td><td>81.0000</td><td>80.0000</td><td>81.0000</td><td>72.0000</td><td>74.0000</td><td>71.0000</td><td>⋯</td><td>75</td><td>75.0000</td><td>75.0000</td><td>75.00000</td><td>75.0000</td><td>75.0000</td><td>75.0000</td><td>75.0000</td><td>75.000</td><td>75.0000</td></tr>\n",
       "\t<tr><th scope=row>2</th><td>malignant(1=no,2=yes,0=unresolved)                          </td><td> 1.0000</td><td> 1.0000</td><td> 2.0000</td><td> 2.0000</td><td> 2.0000</td><td> 2.0000</td><td> 1.0000</td><td> 1.0000</td><td> 2.0000</td><td>⋯</td><td> 1</td><td> 1.0000</td><td> 1.0000</td><td> 1.00000</td><td> 1.0000</td><td> 1.0000</td><td> 1.0000</td><td> 1.0000</td><td> 1.000</td><td> 1.0000</td></tr>\n",
       "\t<tr><th scope=row>3</th><td>non-malignant cell type (1=T,2=B,3=Macro.4=Endo.,5=CAF;6=NK)</td><td> 2.0000</td><td> 1.0000</td><td> 0.0000</td><td> 0.0000</td><td> 0.0000</td><td> 0.0000</td><td> 1.0000</td><td> 1.0000</td><td> 0.0000</td><td>⋯</td><td> 1</td><td> 1.0000</td><td> 1.0000</td><td> 1.00000</td><td> 1.0000</td><td> 1.0000</td><td> 1.0000</td><td> 1.0000</td><td> 1.000</td><td> 0.0000</td></tr>\n",
       "\t<tr><th scope=row>4</th><td>C9orf152                                                    </td><td> 0.0000</td><td> 0.0000</td><td> 0.0000</td><td> 0.0000</td><td> 0.0000</td><td> 0.0000</td><td> 0.0000</td><td> 0.0000</td><td> 0.0000</td><td>⋯</td><td> 0</td><td> 0.0000</td><td> 0.0000</td><td> 0.00000</td><td> 0.0000</td><td> 0.0000</td><td> 0.0000</td><td> 0.0000</td><td> 0.000</td><td> 0.0000</td></tr>\n",
       "\t<tr><th scope=row>5</th><td>RPS11                                                       </td><td> 9.2172</td><td> 8.3745</td><td> 9.3130</td><td> 7.8876</td><td> 8.3291</td><td> 7.8336</td><td> 8.3737</td><td> 8.1338</td><td> 8.4373</td><td>⋯</td><td> 0</td><td> 7.8639</td><td> 5.8505</td><td> 0.62639</td><td> 6.2734</td><td> 5.4889</td><td> 4.9262</td><td> 7.0958</td><td> 3.997</td><td> 3.9897</td></tr>\n",
       "\t<tr><th scope=row>6</th><td>ELMO2                                                       </td><td> 0.0000</td><td> 0.0000</td><td> 2.1263</td><td> 0.0000</td><td> 0.0000</td><td> 0.7740</td><td> 0.0000</td><td> 0.0000</td><td> 0.0000</td><td>⋯</td><td> 0</td><td> 0.0000</td><td> 3.1572</td><td> 4.79320</td><td> 0.0000</td><td> 0.0000</td><td> 5.5296</td><td> 0.0000</td><td> 0.000</td><td> 0.0000</td></tr>\n",
       "</tbody>\n",
       "</table>\n"
      ],
      "text/latex": [
       "A data.frame: 6 × 4646\n",
       "\\begin{tabular}{r|lllllllllllllllllllll}\n",
       "  & Cell & Cy72\\_CD45\\_H02\\_S758\\_comb & CY58\\_1\\_CD45\\_B02\\_S974\\_comb & Cy71\\_CD45\\_D08\\_S524\\_comb & Cy81\\_FNA\\_CD45\\_B01\\_S301\\_comb & Cy80\\_II\\_CD45\\_B07\\_S883\\_comb & Cy81\\_Bulk\\_CD45\\_B10\\_S118\\_comb & Cy72\\_CD45\\_D09\\_S717\\_comb & Cy74\\_CD45\\_A03\\_S387\\_comb & Cy71\\_CD45\\_B05\\_S497\\_comb & ⋯ & CY75\\_1\\_CD45\\_CD8\\_7\\_\\_S265\\_comb & CY75\\_1\\_CD45\\_CD8\\_3\\_\\_S127\\_comb & CY75\\_1\\_CD45\\_CD8\\_1\\_\\_S61\\_comb & CY75\\_1\\_CD45\\_CD8\\_1\\_\\_S12\\_comb & CY75\\_1\\_CD45\\_CD8\\_1\\_\\_S25\\_comb & CY75\\_1\\_CD45\\_CD8\\_7\\_\\_S223\\_comb & CY75\\_1\\_CD45\\_CD8\\_1\\_\\_S65\\_comb & CY75\\_1\\_CD45\\_CD8\\_1\\_\\_S93\\_comb & CY75\\_1\\_CD45\\_CD8\\_1\\_\\_S76\\_comb & CY75\\_1\\_CD45\\_CD8\\_7\\_\\_S274\\_comb\\\\\n",
       "  & <chr> & <dbl> & <dbl> & <dbl> & <dbl> & <dbl> & <dbl> & <dbl> & <dbl> & <dbl> & ⋯ & <dbl> & <dbl> & <dbl> & <dbl> & <dbl> & <dbl> & <dbl> & <dbl> & <dbl> & <dbl>\\\\\n",
       "\\hline\n",
       "\t1 & tumor                                                        & 72.0000 & 58.0000 & 71.0000 & 81.0000 & 80.0000 & 81.0000 & 72.0000 & 74.0000 & 71.0000 & ⋯ & 75 & 75.0000 & 75.0000 & 75.00000 & 75.0000 & 75.0000 & 75.0000 & 75.0000 & 75.000 & 75.0000\\\\\n",
       "\t2 & malignant(1=no,2=yes,0=unresolved)                           &  1.0000 &  1.0000 &  2.0000 &  2.0000 &  2.0000 &  2.0000 &  1.0000 &  1.0000 &  2.0000 & ⋯ &  1 &  1.0000 &  1.0000 &  1.00000 &  1.0000 &  1.0000 &  1.0000 &  1.0000 &  1.000 &  1.0000\\\\\n",
       "\t3 & non-malignant cell type (1=T,2=B,3=Macro.4=Endo.,5=CAF;6=NK) &  2.0000 &  1.0000 &  0.0000 &  0.0000 &  0.0000 &  0.0000 &  1.0000 &  1.0000 &  0.0000 & ⋯ &  1 &  1.0000 &  1.0000 &  1.00000 &  1.0000 &  1.0000 &  1.0000 &  1.0000 &  1.000 &  0.0000\\\\\n",
       "\t4 & C9orf152                                                     &  0.0000 &  0.0000 &  0.0000 &  0.0000 &  0.0000 &  0.0000 &  0.0000 &  0.0000 &  0.0000 & ⋯ &  0 &  0.0000 &  0.0000 &  0.00000 &  0.0000 &  0.0000 &  0.0000 &  0.0000 &  0.000 &  0.0000\\\\\n",
       "\t5 & RPS11                                                        &  9.2172 &  8.3745 &  9.3130 &  7.8876 &  8.3291 &  7.8336 &  8.3737 &  8.1338 &  8.4373 & ⋯ &  0 &  7.8639 &  5.8505 &  0.62639 &  6.2734 &  5.4889 &  4.9262 &  7.0958 &  3.997 &  3.9897\\\\\n",
       "\t6 & ELMO2                                                        &  0.0000 &  0.0000 &  2.1263 &  0.0000 &  0.0000 &  0.7740 &  0.0000 &  0.0000 &  0.0000 & ⋯ &  0 &  0.0000 &  3.1572 &  4.79320 &  0.0000 &  0.0000 &  5.5296 &  0.0000 &  0.000 &  0.0000\\\\\n",
       "\\end{tabular}\n"
      ],
      "text/markdown": [
       "\n",
       "A data.frame: 6 × 4646\n",
       "\n",
       "| <!--/--> | Cell &lt;chr&gt; | Cy72_CD45_H02_S758_comb &lt;dbl&gt; | CY58_1_CD45_B02_S974_comb &lt;dbl&gt; | Cy71_CD45_D08_S524_comb &lt;dbl&gt; | Cy81_FNA_CD45_B01_S301_comb &lt;dbl&gt; | Cy80_II_CD45_B07_S883_comb &lt;dbl&gt; | Cy81_Bulk_CD45_B10_S118_comb &lt;dbl&gt; | Cy72_CD45_D09_S717_comb &lt;dbl&gt; | Cy74_CD45_A03_S387_comb &lt;dbl&gt; | Cy71_CD45_B05_S497_comb &lt;dbl&gt; | ⋯ ⋯ | CY75_1_CD45_CD8_7__S265_comb &lt;dbl&gt; | CY75_1_CD45_CD8_3__S127_comb &lt;dbl&gt; | CY75_1_CD45_CD8_1__S61_comb &lt;dbl&gt; | CY75_1_CD45_CD8_1__S12_comb &lt;dbl&gt; | CY75_1_CD45_CD8_1__S25_comb &lt;dbl&gt; | CY75_1_CD45_CD8_7__S223_comb &lt;dbl&gt; | CY75_1_CD45_CD8_1__S65_comb &lt;dbl&gt; | CY75_1_CD45_CD8_1__S93_comb &lt;dbl&gt; | CY75_1_CD45_CD8_1__S76_comb &lt;dbl&gt; | CY75_1_CD45_CD8_7__S274_comb &lt;dbl&gt; |\n",
       "|---|---|---|---|---|---|---|---|---|---|---|---|---|---|---|---|---|---|---|---|---|---|\n",
       "| 1 | tumor                                                        | 72.0000 | 58.0000 | 71.0000 | 81.0000 | 80.0000 | 81.0000 | 72.0000 | 74.0000 | 71.0000 | ⋯ | 75 | 75.0000 | 75.0000 | 75.00000 | 75.0000 | 75.0000 | 75.0000 | 75.0000 | 75.000 | 75.0000 |\n",
       "| 2 | malignant(1=no,2=yes,0=unresolved)                           |  1.0000 |  1.0000 |  2.0000 |  2.0000 |  2.0000 |  2.0000 |  1.0000 |  1.0000 |  2.0000 | ⋯ |  1 |  1.0000 |  1.0000 |  1.00000 |  1.0000 |  1.0000 |  1.0000 |  1.0000 |  1.000 |  1.0000 |\n",
       "| 3 | non-malignant cell type (1=T,2=B,3=Macro.4=Endo.,5=CAF;6=NK) |  2.0000 |  1.0000 |  0.0000 |  0.0000 |  0.0000 |  0.0000 |  1.0000 |  1.0000 |  0.0000 | ⋯ |  1 |  1.0000 |  1.0000 |  1.00000 |  1.0000 |  1.0000 |  1.0000 |  1.0000 |  1.000 |  0.0000 |\n",
       "| 4 | C9orf152                                                     |  0.0000 |  0.0000 |  0.0000 |  0.0000 |  0.0000 |  0.0000 |  0.0000 |  0.0000 |  0.0000 | ⋯ |  0 |  0.0000 |  0.0000 |  0.00000 |  0.0000 |  0.0000 |  0.0000 |  0.0000 |  0.000 |  0.0000 |\n",
       "| 5 | RPS11                                                        |  9.2172 |  8.3745 |  9.3130 |  7.8876 |  8.3291 |  7.8336 |  8.3737 |  8.1338 |  8.4373 | ⋯ |  0 |  7.8639 |  5.8505 |  0.62639 |  6.2734 |  5.4889 |  4.9262 |  7.0958 |  3.997 |  3.9897 |\n",
       "| 6 | ELMO2                                                        |  0.0000 |  0.0000 |  2.1263 |  0.0000 |  0.0000 |  0.7740 |  0.0000 |  0.0000 |  0.0000 | ⋯ |  0 |  0.0000 |  3.1572 |  4.79320 |  0.0000 |  0.0000 |  5.5296 |  0.0000 |  0.000 |  0.0000 |\n",
       "\n"
      ],
      "text/plain": [
       "  Cell                                                        \n",
       "1 tumor                                                       \n",
       "2 malignant(1=no,2=yes,0=unresolved)                          \n",
       "3 non-malignant cell type (1=T,2=B,3=Macro.4=Endo.,5=CAF;6=NK)\n",
       "4 C9orf152                                                    \n",
       "5 RPS11                                                       \n",
       "6 ELMO2                                                       \n",
       "  Cy72_CD45_H02_S758_comb CY58_1_CD45_B02_S974_comb Cy71_CD45_D08_S524_comb\n",
       "1 72.0000                 58.0000                   71.0000                \n",
       "2  1.0000                  1.0000                    2.0000                \n",
       "3  2.0000                  1.0000                    0.0000                \n",
       "4  0.0000                  0.0000                    0.0000                \n",
       "5  9.2172                  8.3745                    9.3130                \n",
       "6  0.0000                  0.0000                    2.1263                \n",
       "  Cy81_FNA_CD45_B01_S301_comb Cy80_II_CD45_B07_S883_comb\n",
       "1 81.0000                     80.0000                   \n",
       "2  2.0000                      2.0000                   \n",
       "3  0.0000                      0.0000                   \n",
       "4  0.0000                      0.0000                   \n",
       "5  7.8876                      8.3291                   \n",
       "6  0.0000                      0.0000                   \n",
       "  Cy81_Bulk_CD45_B10_S118_comb Cy72_CD45_D09_S717_comb Cy74_CD45_A03_S387_comb\n",
       "1 81.0000                      72.0000                 74.0000                \n",
       "2  2.0000                       1.0000                  1.0000                \n",
       "3  0.0000                       1.0000                  1.0000                \n",
       "4  0.0000                       0.0000                  0.0000                \n",
       "5  7.8336                       8.3737                  8.1338                \n",
       "6  0.7740                       0.0000                  0.0000                \n",
       "  Cy71_CD45_B05_S497_comb ⋯ CY75_1_CD45_CD8_7__S265_comb\n",
       "1 71.0000                 ⋯ 75                          \n",
       "2  2.0000                 ⋯  1                          \n",
       "3  0.0000                 ⋯  1                          \n",
       "4  0.0000                 ⋯  0                          \n",
       "5  8.4373                 ⋯  0                          \n",
       "6  0.0000                 ⋯  0                          \n",
       "  CY75_1_CD45_CD8_3__S127_comb CY75_1_CD45_CD8_1__S61_comb\n",
       "1 75.0000                      75.0000                    \n",
       "2  1.0000                       1.0000                    \n",
       "3  1.0000                       1.0000                    \n",
       "4  0.0000                       0.0000                    \n",
       "5  7.8639                       5.8505                    \n",
       "6  0.0000                       3.1572                    \n",
       "  CY75_1_CD45_CD8_1__S12_comb CY75_1_CD45_CD8_1__S25_comb\n",
       "1 75.00000                    75.0000                    \n",
       "2  1.00000                     1.0000                    \n",
       "3  1.00000                     1.0000                    \n",
       "4  0.00000                     0.0000                    \n",
       "5  0.62639                     6.2734                    \n",
       "6  4.79320                     0.0000                    \n",
       "  CY75_1_CD45_CD8_7__S223_comb CY75_1_CD45_CD8_1__S65_comb\n",
       "1 75.0000                      75.0000                    \n",
       "2  1.0000                       1.0000                    \n",
       "3  1.0000                       1.0000                    \n",
       "4  0.0000                       0.0000                    \n",
       "5  5.4889                       4.9262                    \n",
       "6  0.0000                       5.5296                    \n",
       "  CY75_1_CD45_CD8_1__S93_comb CY75_1_CD45_CD8_1__S76_comb\n",
       "1 75.0000                     75.000                     \n",
       "2  1.0000                      1.000                     \n",
       "3  1.0000                      1.000                     \n",
       "4  0.0000                      0.000                     \n",
       "5  7.0958                      3.997                     \n",
       "6  0.0000                      0.000                     \n",
       "  CY75_1_CD45_CD8_7__S274_comb\n",
       "1 75.0000                     \n",
       "2  1.0000                     \n",
       "3  0.0000                     \n",
       "4  0.0000                     \n",
       "5  3.9897                     \n",
       "6  0.0000                     "
      ]
     },
     "metadata": {},
     "output_type": "display_data"
    }
   ],
   "source": [
    "head(data)"
   ]
  },
  {
   "cell_type": "code",
   "execution_count": 5,
   "id": "84f1f969-ec8d-4c1e-a05a-4f6d3fb924c4",
   "metadata": {},
   "outputs": [
    {
     "data": {
      "text/html": [
       "23687"
      ],
      "text/latex": [
       "23687"
      ],
      "text/markdown": [
       "23687"
      ],
      "text/plain": [
       "[1] 23687"
      ]
     },
     "metadata": {},
     "output_type": "display_data"
    }
   ],
   "source": [
    "ridx = !duplicated(data[,1])\n",
    "sum(ridx)"
   ]
  },
  {
   "cell_type": "code",
   "execution_count": 6,
   "id": "29e89062-3346-4fb2-aefc-8e0be4c4d9ad",
   "metadata": {},
   "outputs": [],
   "source": [
    "dupid = which(duplicated(data[,1]))\n",
    "data[dupid, 1] = paste0(data[dupid,1], '.1')"
   ]
  },
  {
   "cell_type": "code",
   "execution_count": 7,
   "id": "c9c30835-662d-49b9-b427-bd52da0047fa",
   "metadata": {},
   "outputs": [
    {
     "data": {
      "text/html": [
       "23689"
      ],
      "text/latex": [
       "23689"
      ],
      "text/markdown": [
       "23689"
      ],
      "text/plain": [
       "[1] 23689"
      ]
     },
     "metadata": {},
     "output_type": "display_data"
    }
   ],
   "source": [
    "ridx = !duplicated(data[,1])\n",
    "sum(ridx)"
   ]
  },
  {
   "cell_type": "code",
   "execution_count": 8,
   "id": "2efd9fb1-737c-4eed-baf0-cc0fc45105e4",
   "metadata": {},
   "outputs": [
    {
     "data": {
      "text/html": [
       "<style>\n",
       ".list-inline {list-style: none; margin:0; padding: 0}\n",
       ".list-inline>li {display: inline-block}\n",
       ".list-inline>li:not(:last-child)::after {content: \"\\00b7\"; padding: 0 .5ex}\n",
       "</style>\n",
       "<ol class=list-inline><li>23689</li><li>2887</li></ol>\n"
      ],
      "text/latex": [
       "\\begin{enumerate*}\n",
       "\\item 23689\n",
       "\\item 2887\n",
       "\\end{enumerate*}\n"
      ],
      "text/markdown": [
       "1. 23689\n",
       "2. 2887\n",
       "\n",
       "\n"
      ],
      "text/plain": [
       "[1] 23689  2887"
      ]
     },
     "metadata": {},
     "output_type": "display_data"
    }
   ],
   "source": [
    "rownames(data) = data[,1]\n",
    "idx = as.character(data[3,]) %in% as.character(c(1,2,3,4,5,6))\n",
    "subdata = data[, idx]\n",
    "subdata = as.matrix(subdata)\n",
    "dim(subdata)"
   ]
  },
  {
   "cell_type": "code",
   "execution_count": 9,
   "id": "ee1b05ba-49d6-4153-b9d9-c4c3e07aab15",
   "metadata": {},
   "outputs": [],
   "source": [
    "values = c('T', 'B', 'Macro', 'Endo', 'CAF', 'NK')\n",
    "celltypes = values[as.factor(subdata[3,])]\n",
    "subdata = subdata[4:nrow(subdata), ]"
   ]
  },
  {
   "cell_type": "code",
   "execution_count": 12,
   "id": "00124408-263f-447d-a880-b5f26ee9a412",
   "metadata": {},
   "outputs": [
    {
     "data": {
      "text/html": [
       "<style>\n",
       ".list-inline {list-style: none; margin:0; padding: 0}\n",
       ".list-inline>li {display: inline-block}\n",
       ".list-inline>li:not(:last-child)::after {content: \"\\00b7\"; padding: 0 .5ex}\n",
       "</style>\n",
       "<ol class=list-inline><li>23686</li><li>2887</li></ol>\n"
      ],
      "text/latex": [
       "\\begin{enumerate*}\n",
       "\\item 23686\n",
       "\\item 2887\n",
       "\\end{enumerate*}\n"
      ],
      "text/markdown": [
       "1. 23686\n",
       "2. 2887\n",
       "\n",
       "\n"
      ],
      "text/plain": [
       "[1] 23686  2887"
      ]
     },
     "metadata": {},
     "output_type": "display_data"
    }
   ],
   "source": [
    "\n",
    "sce <- SingleCellExperiment(list(counts=subdata),\n",
    "    colData=DataFrame(cells = colnames(subdata), truth = celltypes),\n",
    "    metadata=list(study=\"GSE72056\")\n",
    ")\n",
    "dim(sce)"
   ]
  },
  {
   "cell_type": "code",
   "execution_count": 11,
   "id": "17eb3d46-f003-4421-90be-13b2038f914e",
   "metadata": {},
   "outputs": [
    {
     "data": {
      "text/plain": [
       "class: SingleCellExperiment \n",
       "dim: 23686 2887 \n",
       "metadata(1): study\n",
       "assays(1): counts\n",
       "rownames(23686): C9orf152 RPS11 ... CTSC AQP7\n",
       "rowData names(0):\n",
       "colnames(2887): Cy72_CD45_H02_S758_comb CY58_1_CD45_B02_S974_comb ...\n",
       "  CY75_1_CD45_CD8_1__S93_comb CY75_1_CD45_CD8_1__S76_comb\n",
       "colData names(2): cells truth\n",
       "reducedDimNames(0):\n",
       "mainExpName: NULL\n",
       "altExpNames(0):"
      ]
     },
     "metadata": {},
     "output_type": "display_data"
    }
   ],
   "source": [
    "sce"
   ]
  },
  {
   "cell_type": "code",
   "execution_count": 159,
   "id": "475ed67a-2234-41bf-977d-5adb14c49a72",
   "metadata": {},
   "outputs": [],
   "source": [
    "saveRDS(sce, './reak_data/raw/Tirosh_nonmaglignant.rds')"
   ]
  },
  {
   "cell_type": "markdown",
   "id": "bc6ce78f-2fa1-4f79-a3b4-76e245e7ded2",
   "metadata": {},
   "source": [
    "# PBMC10x data\n",
    "This data set is downloaded from https://www.ncbi.nlm.nih.gov/geo/query/acc.cgi?acc=GSE1320444, the corresponding 'txt' files used below can also be downloaded from this website."
   ]
  },
  {
   "cell_type": "code",
   "execution_count": 13,
   "id": "ed5e0e4b-9f7c-4a75-bb36-a5b0052de0ff",
   "metadata": {},
   "outputs": [],
   "source": [
    "# mat = readMM('/project/CorrAnalysis/02.Projects/data/rawdata/PBMC/counts.read.txt')\n",
    "mat = readMM('download_raw_data_scripts/PBMC/counts.read.txt')"
   ]
  },
  {
   "cell_type": "code",
   "execution_count": 14,
   "id": "fe24de31-b406-42eb-a364-9480a198a00f",
   "metadata": {},
   "outputs": [],
   "source": [
    "# genes = read.table('/project/CorrAnalysis/02.Projects/data/rawdata/PBMC/genes.read.txt', sep = '\\t')\n",
    "genes = read.table('download_raw_data_scripts//PBMC/genes.read.txt', sep = '\\t')\n",
    "# cells = read.csv('/project/CorrAnalysis/02.Projects/data/rawdata/PBMC/meta.counts.new.txt', sep = '\\t')\n",
    "cells = read.csv('download_raw_data_scripts//PBMC/meta.counts.new.txt', sep = '\\t')\n"
   ]
  },
  {
   "cell_type": "code",
   "execution_count": 15,
   "id": "8d1eed22-2f72-4408-b9a8-ffa22e96f16d",
   "metadata": {},
   "outputs": [
    {
     "data": {
      "text/html": [
       "<style>\n",
       ".list-inline {list-style: none; margin:0; padding: 0}\n",
       ".list-inline>li {display: inline-block}\n",
       ".list-inline>li:not(:last-child)::after {content: \"\\00b7\"; padding: 0 .5ex}\n",
       "</style>\n",
       "<ol class=list-inline><li>33694</li><li>45017</li></ol>\n"
      ],
      "text/latex": [
       "\\begin{enumerate*}\n",
       "\\item 33694\n",
       "\\item 45017\n",
       "\\end{enumerate*}\n"
      ],
      "text/markdown": [
       "1. 33694\n",
       "2. 45017\n",
       "\n",
       "\n"
      ],
      "text/plain": [
       "[1] 33694 45017"
      ]
     },
     "metadata": {},
     "output_type": "display_data"
    },
    {
     "data": {
      "text/html": [
       "<style>\n",
       ".list-inline {list-style: none; margin:0; padding: 0}\n",
       ".list-inline>li {display: inline-block}\n",
       ".list-inline>li:not(:last-child)::after {content: \"\\00b7\"; padding: 0 .5ex}\n",
       "</style>\n",
       "<ol class=list-inline><li>33694</li><li>1</li></ol>\n"
      ],
      "text/latex": [
       "\\begin{enumerate*}\n",
       "\\item 33694\n",
       "\\item 1\n",
       "\\end{enumerate*}\n"
      ],
      "text/markdown": [
       "1. 33694\n",
       "2. 1\n",
       "\n",
       "\n"
      ],
      "text/plain": [
       "[1] 33694     1"
      ]
     },
     "metadata": {},
     "output_type": "display_data"
    },
    {
     "data": {
      "text/html": [
       "<style>\n",
       ".list-inline {list-style: none; margin:0; padding: 0}\n",
       ".list-inline>li {display: inline-block}\n",
       ".list-inline>li:not(:last-child)::after {content: \"\\00b7\"; padding: 0 .5ex}\n",
       "</style>\n",
       "<ol class=list-inline><li>45017</li><li>4</li></ol>\n"
      ],
      "text/latex": [
       "\\begin{enumerate*}\n",
       "\\item 45017\n",
       "\\item 4\n",
       "\\end{enumerate*}\n"
      ],
      "text/markdown": [
       "1. 45017\n",
       "2. 4\n",
       "\n",
       "\n"
      ],
      "text/plain": [
       "[1] 45017     4"
      ]
     },
     "metadata": {},
     "output_type": "display_data"
    },
    {
     "data": {
      "text/html": [
       "<table class=\"dataframe\">\n",
       "<caption>A data.frame: 6 × 4</caption>\n",
       "<thead>\n",
       "\t<tr><th></th><th scope=col>Name</th><th scope=col>Experiment</th><th scope=col>Method</th><th scope=col>CBC</th></tr>\n",
       "\t<tr><th></th><th scope=col>&lt;chr&gt;</th><th scope=col>&lt;chr&gt;</th><th scope=col>&lt;chr&gt;</th><th scope=col>&lt;chr&gt;</th></tr>\n",
       "</thead>\n",
       "<tbody>\n",
       "\t<tr><th scope=row>1</th><td>pbmc1_SM2_Cell_1  </td><td>pbmc1</td><td>Smart-seq2</td><td>NA</td></tr>\n",
       "\t<tr><th scope=row>2</th><td>pbmc1_SM2_Cell_107</td><td>pbmc1</td><td>Smart-seq2</td><td>NA</td></tr>\n",
       "\t<tr><th scope=row>3</th><td>pbmc1_SM2_Cell_108</td><td>pbmc1</td><td>Smart-seq2</td><td>NA</td></tr>\n",
       "\t<tr><th scope=row>4</th><td>pbmc1_SM2_Cell_115</td><td>pbmc1</td><td>Smart-seq2</td><td>NA</td></tr>\n",
       "\t<tr><th scope=row>5</th><td>pbmc1_SM2_Cell_125</td><td>pbmc1</td><td>Smart-seq2</td><td>NA</td></tr>\n",
       "\t<tr><th scope=row>6</th><td>pbmc1_SM2_Cell_128</td><td>pbmc1</td><td>Smart-seq2</td><td>NA</td></tr>\n",
       "</tbody>\n",
       "</table>\n"
      ],
      "text/latex": [
       "A data.frame: 6 × 4\n",
       "\\begin{tabular}{r|llll}\n",
       "  & Name & Experiment & Method & CBC\\\\\n",
       "  & <chr> & <chr> & <chr> & <chr>\\\\\n",
       "\\hline\n",
       "\t1 & pbmc1\\_SM2\\_Cell\\_1   & pbmc1 & Smart-seq2 & NA\\\\\n",
       "\t2 & pbmc1\\_SM2\\_Cell\\_107 & pbmc1 & Smart-seq2 & NA\\\\\n",
       "\t3 & pbmc1\\_SM2\\_Cell\\_108 & pbmc1 & Smart-seq2 & NA\\\\\n",
       "\t4 & pbmc1\\_SM2\\_Cell\\_115 & pbmc1 & Smart-seq2 & NA\\\\\n",
       "\t5 & pbmc1\\_SM2\\_Cell\\_125 & pbmc1 & Smart-seq2 & NA\\\\\n",
       "\t6 & pbmc1\\_SM2\\_Cell\\_128 & pbmc1 & Smart-seq2 & NA\\\\\n",
       "\\end{tabular}\n"
      ],
      "text/markdown": [
       "\n",
       "A data.frame: 6 × 4\n",
       "\n",
       "| <!--/--> | Name &lt;chr&gt; | Experiment &lt;chr&gt; | Method &lt;chr&gt; | CBC &lt;chr&gt; |\n",
       "|---|---|---|---|---|\n",
       "| 1 | pbmc1_SM2_Cell_1   | pbmc1 | Smart-seq2 | NA |\n",
       "| 2 | pbmc1_SM2_Cell_107 | pbmc1 | Smart-seq2 | NA |\n",
       "| 3 | pbmc1_SM2_Cell_108 | pbmc1 | Smart-seq2 | NA |\n",
       "| 4 | pbmc1_SM2_Cell_115 | pbmc1 | Smart-seq2 | NA |\n",
       "| 5 | pbmc1_SM2_Cell_125 | pbmc1 | Smart-seq2 | NA |\n",
       "| 6 | pbmc1_SM2_Cell_128 | pbmc1 | Smart-seq2 | NA |\n",
       "\n"
      ],
      "text/plain": [
       "  Name               Experiment Method     CBC\n",
       "1 pbmc1_SM2_Cell_1   pbmc1      Smart-seq2 NA \n",
       "2 pbmc1_SM2_Cell_107 pbmc1      Smart-seq2 NA \n",
       "3 pbmc1_SM2_Cell_108 pbmc1      Smart-seq2 NA \n",
       "4 pbmc1_SM2_Cell_115 pbmc1      Smart-seq2 NA \n",
       "5 pbmc1_SM2_Cell_125 pbmc1      Smart-seq2 NA \n",
       "6 pbmc1_SM2_Cell_128 pbmc1      Smart-seq2 NA "
      ]
     },
     "metadata": {},
     "output_type": "display_data"
    }
   ],
   "source": [
    "dim(mat)\n",
    "dim(genes)\n",
    "dim(cells)\n",
    "head(cells)"
   ]
  },
  {
   "cell_type": "code",
   "execution_count": 16,
   "id": "e0a540a1-c157-4de0-ac57-6dd4f22f2e35",
   "metadata": {},
   "outputs": [],
   "source": [
    "rownames(mat) = genes$V1\n",
    "colnames(mat) = cells$Name"
   ]
  },
  {
   "cell_type": "code",
   "execution_count": 17,
   "id": "6a1cf75d-9635-4a2f-94a7-515a0c270dcd",
   "metadata": {},
   "outputs": [],
   "source": [
    "# meta = read.csv('/project/CorrAnalysis/02.Projects/data/rawdata/PBMC/meta.txt', sep = '\\t')\n",
    "meta = read.csv('download_raw_data_scripts//PBMC/meta.txt', sep = '\\t')\n",
    "meta = meta[2:nrow(meta),]\n",
    "submat = mat[,colnames(mat) %in% meta$NAME]"
   ]
  },
  {
   "cell_type": "code",
   "execution_count": 18,
   "id": "c9cd5f7e-b2aa-49d1-8097-4e3d206de9b9",
   "metadata": {},
   "outputs": [
    {
     "data": {
      "text/html": [
       "<style>\n",
       ".list-inline {list-style: none; margin:0; padding: 0}\n",
       ".list-inline>li {display: inline-block}\n",
       ".list-inline>li:not(:last-child)::after {content: \"\\00b7\"; padding: 0 .5ex}\n",
       "</style>\n",
       "<ol class=list-inline><li>33694</li><li>31021</li></ol>\n"
      ],
      "text/latex": [
       "\\begin{enumerate*}\n",
       "\\item 33694\n",
       "\\item 31021\n",
       "\\end{enumerate*}\n"
      ],
      "text/markdown": [
       "1. 33694\n",
       "2. 31021\n",
       "\n",
       "\n"
      ],
      "text/plain": [
       "[1] 33694 31021"
      ]
     },
     "metadata": {},
     "output_type": "display_data"
    },
    {
     "data": {
      "text/html": [
       "<style>\n",
       ".list-inline {list-style: none; margin:0; padding: 0}\n",
       ".list-inline>li {display: inline-block}\n",
       ".list-inline>li:not(:last-child)::after {content: \"\\00b7\"; padding: 0 .5ex}\n",
       "</style>\n",
       "<ol class=list-inline><li>31021</li><li>8</li></ol>\n"
      ],
      "text/latex": [
       "\\begin{enumerate*}\n",
       "\\item 31021\n",
       "\\item 8\n",
       "\\end{enumerate*}\n"
      ],
      "text/markdown": [
       "1. 31021\n",
       "2. 8\n",
       "\n",
       "\n"
      ],
      "text/plain": [
       "[1] 31021     8"
      ]
     },
     "metadata": {},
     "output_type": "display_data"
    },
    {
     "data": {
      "text/html": [
       "<table class=\"dataframe\">\n",
       "<caption>A data.frame: 6 × 8</caption>\n",
       "<thead>\n",
       "\t<tr><th></th><th scope=col>NAME</th><th scope=col>nGene</th><th scope=col>nUMI</th><th scope=col>percent.mito</th><th scope=col>Cluster</th><th scope=col>CellType</th><th scope=col>Experiment</th><th scope=col>Method</th></tr>\n",
       "\t<tr><th></th><th scope=col>&lt;chr&gt;</th><th scope=col>&lt;chr&gt;</th><th scope=col>&lt;chr&gt;</th><th scope=col>&lt;chr&gt;</th><th scope=col>&lt;chr&gt;</th><th scope=col>&lt;chr&gt;</th><th scope=col>&lt;chr&gt;</th><th scope=col>&lt;chr&gt;</th></tr>\n",
       "</thead>\n",
       "<tbody>\n",
       "\t<tr><th scope=row>2</th><td>pbmc1_SM2_Cell_108</td><td>2200</td><td>437125</td><td>0.0297434465355702</td><td>0</td><td>Cytotoxic T cell</td><td>pbmc1</td><td>Smart-seq2</td></tr>\n",
       "\t<tr><th scope=row>3</th><td>pbmc1_SM2_Cell_115</td><td>2438</td><td>335596</td><td>0.0311521658159055</td><td>0</td><td>Cytotoxic T cell</td><td>pbmc1</td><td>Smart-seq2</td></tr>\n",
       "\t<tr><th scope=row>4</th><td>pbmc1_SM2_Cell_133</td><td>1874</td><td>302204</td><td>0.0431128105727693</td><td>0</td><td>Cytotoxic T cell</td><td>pbmc1</td><td>Smart-seq2</td></tr>\n",
       "\t<tr><th scope=row>5</th><td>pbmc1_SM2_Cell_142</td><td>2480</td><td>377420</td><td>0.0260323569927476</td><td>0</td><td>Cytotoxic T cell</td><td>pbmc1</td><td>Smart-seq2</td></tr>\n",
       "\t<tr><th scope=row>6</th><td>pbmc1_SM2_Cell_143</td><td>2196</td><td>385514</td><td>0.0404759383962183</td><td>0</td><td>Cytotoxic T cell</td><td>pbmc1</td><td>Smart-seq2</td></tr>\n",
       "\t<tr><th scope=row>7</th><td>pbmc1_SM2_Cell_144</td><td>2216</td><td>304994</td><td>0.023409951391094 </td><td>0</td><td>Cytotoxic T cell</td><td>pbmc1</td><td>Smart-seq2</td></tr>\n",
       "</tbody>\n",
       "</table>\n"
      ],
      "text/latex": [
       "A data.frame: 6 × 8\n",
       "\\begin{tabular}{r|llllllll}\n",
       "  & NAME & nGene & nUMI & percent.mito & Cluster & CellType & Experiment & Method\\\\\n",
       "  & <chr> & <chr> & <chr> & <chr> & <chr> & <chr> & <chr> & <chr>\\\\\n",
       "\\hline\n",
       "\t2 & pbmc1\\_SM2\\_Cell\\_108 & 2200 & 437125 & 0.0297434465355702 & 0 & Cytotoxic T cell & pbmc1 & Smart-seq2\\\\\n",
       "\t3 & pbmc1\\_SM2\\_Cell\\_115 & 2438 & 335596 & 0.0311521658159055 & 0 & Cytotoxic T cell & pbmc1 & Smart-seq2\\\\\n",
       "\t4 & pbmc1\\_SM2\\_Cell\\_133 & 1874 & 302204 & 0.0431128105727693 & 0 & Cytotoxic T cell & pbmc1 & Smart-seq2\\\\\n",
       "\t5 & pbmc1\\_SM2\\_Cell\\_142 & 2480 & 377420 & 0.0260323569927476 & 0 & Cytotoxic T cell & pbmc1 & Smart-seq2\\\\\n",
       "\t6 & pbmc1\\_SM2\\_Cell\\_143 & 2196 & 385514 & 0.0404759383962183 & 0 & Cytotoxic T cell & pbmc1 & Smart-seq2\\\\\n",
       "\t7 & pbmc1\\_SM2\\_Cell\\_144 & 2216 & 304994 & 0.023409951391094  & 0 & Cytotoxic T cell & pbmc1 & Smart-seq2\\\\\n",
       "\\end{tabular}\n"
      ],
      "text/markdown": [
       "\n",
       "A data.frame: 6 × 8\n",
       "\n",
       "| <!--/--> | NAME &lt;chr&gt; | nGene &lt;chr&gt; | nUMI &lt;chr&gt; | percent.mito &lt;chr&gt; | Cluster &lt;chr&gt; | CellType &lt;chr&gt; | Experiment &lt;chr&gt; | Method &lt;chr&gt; |\n",
       "|---|---|---|---|---|---|---|---|---|\n",
       "| 2 | pbmc1_SM2_Cell_108 | 2200 | 437125 | 0.0297434465355702 | 0 | Cytotoxic T cell | pbmc1 | Smart-seq2 |\n",
       "| 3 | pbmc1_SM2_Cell_115 | 2438 | 335596 | 0.0311521658159055 | 0 | Cytotoxic T cell | pbmc1 | Smart-seq2 |\n",
       "| 4 | pbmc1_SM2_Cell_133 | 1874 | 302204 | 0.0431128105727693 | 0 | Cytotoxic T cell | pbmc1 | Smart-seq2 |\n",
       "| 5 | pbmc1_SM2_Cell_142 | 2480 | 377420 | 0.0260323569927476 | 0 | Cytotoxic T cell | pbmc1 | Smart-seq2 |\n",
       "| 6 | pbmc1_SM2_Cell_143 | 2196 | 385514 | 0.0404759383962183 | 0 | Cytotoxic T cell | pbmc1 | Smart-seq2 |\n",
       "| 7 | pbmc1_SM2_Cell_144 | 2216 | 304994 | 0.023409951391094  | 0 | Cytotoxic T cell | pbmc1 | Smart-seq2 |\n",
       "\n"
      ],
      "text/plain": [
       "  NAME               nGene nUMI   percent.mito       Cluster CellType        \n",
       "2 pbmc1_SM2_Cell_108 2200  437125 0.0297434465355702 0       Cytotoxic T cell\n",
       "3 pbmc1_SM2_Cell_115 2438  335596 0.0311521658159055 0       Cytotoxic T cell\n",
       "4 pbmc1_SM2_Cell_133 1874  302204 0.0431128105727693 0       Cytotoxic T cell\n",
       "5 pbmc1_SM2_Cell_142 2480  377420 0.0260323569927476 0       Cytotoxic T cell\n",
       "6 pbmc1_SM2_Cell_143 2196  385514 0.0404759383962183 0       Cytotoxic T cell\n",
       "7 pbmc1_SM2_Cell_144 2216  304994 0.023409951391094  0       Cytotoxic T cell\n",
       "  Experiment Method    \n",
       "2 pbmc1      Smart-seq2\n",
       "3 pbmc1      Smart-seq2\n",
       "4 pbmc1      Smart-seq2\n",
       "5 pbmc1      Smart-seq2\n",
       "6 pbmc1      Smart-seq2\n",
       "7 pbmc1      Smart-seq2"
      ]
     },
     "metadata": {},
     "output_type": "display_data"
    }
   ],
   "source": [
    "dim(submat)\n",
    "dim(meta)\n",
    "head(meta)"
   ]
  },
  {
   "cell_type": "code",
   "execution_count": 19,
   "id": "81c9675d-7b4c-4b0b-bd1e-2fce722da29c",
   "metadata": {},
   "outputs": [],
   "source": [
    "meta$Sample = paste0(meta$Experiment, '_', meta$Method)\n",
    "samples = unique(meta$Sample)\n",
    "meta$truth= meta$CellType\n",
    "# for(i in samples){\n",
    "#     idx = meta$Sample == i\n",
    "#     data = submat[,idx]\n",
    "#     sce = SingleCellExperiment(list(counts= data),\n",
    "#     colData= meta[idx,],\n",
    "#     metadata=list(study = i))\n",
    "#     saveRDS(sce, paste0(i, '.rds'))\n",
    "# }"
   ]
  },
  {
   "cell_type": "code",
   "execution_count": 20,
   "id": "64d7195f-d79a-4a59-8857-5f5f6cbf9797",
   "metadata": {},
   "outputs": [
    {
     "data": {
      "text/html": [
       "<style>\n",
       ".list-inline {list-style: none; margin:0; padding: 0}\n",
       ".list-inline>li {display: inline-block}\n",
       ".list-inline>li:not(:last-child)::after {content: \"\\00b7\"; padding: 0 .5ex}\n",
       "</style>\n",
       "<ol class=list-inline><li>'pbmc1_Smart-seq2'</li><li>'pbmc1_CEL-Seq2'</li><li>'pbmc1_10x Chromium (v2) A'</li><li>'pbmc1_10x Chromium (v2) B'</li><li>'pbmc1_10x Chromium (v3)'</li><li>'pbmc1_Drop-seq'</li><li>'pbmc1_Seq-Well'</li><li>'pbmc1_inDrops'</li><li>'pbmc2_Smart-seq2'</li><li>'pbmc2_CEL-Seq2'</li><li>'pbmc2_10x Chromium (v2)'</li><li>'pbmc2_Drop-seq'</li><li>'pbmc2_Seq-Well'</li><li>'pbmc2_inDrops'</li></ol>\n"
      ],
      "text/latex": [
       "\\begin{enumerate*}\n",
       "\\item 'pbmc1\\_Smart-seq2'\n",
       "\\item 'pbmc1\\_CEL-Seq2'\n",
       "\\item 'pbmc1\\_10x Chromium (v2) A'\n",
       "\\item 'pbmc1\\_10x Chromium (v2) B'\n",
       "\\item 'pbmc1\\_10x Chromium (v3)'\n",
       "\\item 'pbmc1\\_Drop-seq'\n",
       "\\item 'pbmc1\\_Seq-Well'\n",
       "\\item 'pbmc1\\_inDrops'\n",
       "\\item 'pbmc2\\_Smart-seq2'\n",
       "\\item 'pbmc2\\_CEL-Seq2'\n",
       "\\item 'pbmc2\\_10x Chromium (v2)'\n",
       "\\item 'pbmc2\\_Drop-seq'\n",
       "\\item 'pbmc2\\_Seq-Well'\n",
       "\\item 'pbmc2\\_inDrops'\n",
       "\\end{enumerate*}\n"
      ],
      "text/markdown": [
       "1. 'pbmc1_Smart-seq2'\n",
       "2. 'pbmc1_CEL-Seq2'\n",
       "3. 'pbmc1_10x Chromium (v2) A'\n",
       "4. 'pbmc1_10x Chromium (v2) B'\n",
       "5. 'pbmc1_10x Chromium (v3)'\n",
       "6. 'pbmc1_Drop-seq'\n",
       "7. 'pbmc1_Seq-Well'\n",
       "8. 'pbmc1_inDrops'\n",
       "9. 'pbmc2_Smart-seq2'\n",
       "10. 'pbmc2_CEL-Seq2'\n",
       "11. 'pbmc2_10x Chromium (v2)'\n",
       "12. 'pbmc2_Drop-seq'\n",
       "13. 'pbmc2_Seq-Well'\n",
       "14. 'pbmc2_inDrops'\n",
       "\n",
       "\n"
      ],
      "text/plain": [
       " [1] \"pbmc1_Smart-seq2\"          \"pbmc1_CEL-Seq2\"           \n",
       " [3] \"pbmc1_10x Chromium (v2) A\" \"pbmc1_10x Chromium (v2) B\"\n",
       " [5] \"pbmc1_10x Chromium (v3)\"   \"pbmc1_Drop-seq\"           \n",
       " [7] \"pbmc1_Seq-Well\"            \"pbmc1_inDrops\"            \n",
       " [9] \"pbmc2_Smart-seq2\"          \"pbmc2_CEL-Seq2\"           \n",
       "[11] \"pbmc2_10x Chromium (v2)\"   \"pbmc2_Drop-seq\"           \n",
       "[13] \"pbmc2_Seq-Well\"            \"pbmc2_inDrops\"            "
      ]
     },
     "metadata": {},
     "output_type": "display_data"
    }
   ],
   "source": [
    "samples"
   ]
  },
  {
   "cell_type": "code",
   "execution_count": 21,
   "id": "ec3e9237-6394-4f78-8803-7a046bf48af6",
   "metadata": {},
   "outputs": [],
   "source": [
    "idx = meta$Sample == \"pbmc2_10x Chromium (v2)\"\n",
    "data = submat[,idx]\n",
    "   "
   ]
  },
  {
   "cell_type": "code",
   "execution_count": 109,
   "id": "d8f70c50-dece-49f6-8fb4-a53492d562e0",
   "metadata": {},
   "outputs": [],
   "source": [
    "# genesymbldf = stringr::str_split(rownames(data), '_', simplify = T)\n",
    "# head(genesymbldf[!(genesymbldf[,4] == ''),])"
   ]
  },
  {
   "cell_type": "code",
   "execution_count": 22,
   "id": "2f6dc69c-6e50-4452-8d90-d32d21f7c4e5",
   "metadata": {},
   "outputs": [
    {
     "data": {
      "text/html": [
       "33694"
      ],
      "text/latex": [
       "33694"
      ],
      "text/markdown": [
       "33694"
      ],
      "text/plain": [
       "[1] 33694"
      ]
     },
     "metadata": {},
     "output_type": "display_data"
    },
    {
     "data": {
      "text/html": [
       "33660"
      ],
      "text/latex": [
       "33660"
      ],
      "text/markdown": [
       "33660"
      ],
      "text/plain": [
       "[1] 33660"
      ]
     },
     "metadata": {},
     "output_type": "display_data"
    }
   ],
   "source": [
    "genesymbl =  stringr::word(rownames(data), 2 ,  -1, sep = '_' )\n",
    "length(genesymbl)\n",
    "length(unique(genesymbl))"
   ]
  },
  {
   "cell_type": "code",
   "execution_count": 23,
   "id": "8d64afd3-f121-4076-83a7-24185da806d6",
   "metadata": {},
   "outputs": [
    {
     "data": {
      "text/html": [
       "33694"
      ],
      "text/latex": [
       "33694"
      ],
      "text/markdown": [
       "33694"
      ],
      "text/plain": [
       "[1] 33694"
      ]
     },
     "metadata": {},
     "output_type": "display_data"
    },
    {
     "data": {
      "text/html": [
       "33694"
      ],
      "text/latex": [
       "33694"
      ],
      "text/markdown": [
       "33694"
      ],
      "text/plain": [
       "[1] 33694"
      ]
     },
     "metadata": {},
     "output_type": "display_data"
    }
   ],
   "source": [
    "genembl = stringr::word(rownames(data), 1 ,  2, sep = '_' )\n",
    "length(genembl)\n",
    "length(unique(genembl))"
   ]
  },
  {
   "cell_type": "code",
   "execution_count": 24,
   "id": "f257b50d-1384-416f-bc07-0bc28171f0d2",
   "metadata": {},
   "outputs": [],
   "source": [
    "rownames(data) = genembl\n",
    "sce = SingleCellExperiment(list(counts= data),\n",
    "colData= meta[idx,],\n",
    "metadata=list(study = \"pbmc_10x Chromium\"))\n",
    "\n",
    "saveRDS(sce, './real_data/raw/data/PBMC_10X.rds')"
   ]
  },
  {
   "cell_type": "markdown",
   "id": "eac3a0cc-c8f4-4664-b00e-4cf140421215",
   "metadata": {},
   "source": [
    "## Tabula_sapiens endothelial"
   ]
  },
  {
   "cell_type": "code",
   "execution_count": 25,
   "id": "22b910f1-08b8-429f-a2ca-a71431b6f899",
   "metadata": {},
   "outputs": [],
   "source": [
    "# data = readRDS('/proect/CAclust/data/tabula_sapiens/tabula_sapiens/tabula_sapiens_endothelial.rds')\n",
    "data = readRDS('download_raw_data_scripts//tabula_sapiens_endothelial.rds')"
   ]
  },
  {
   "cell_type": "code",
   "execution_count": 26,
   "id": "3f4193d0-5b32-4b35-8333-e3ff7a73f945",
   "metadata": {},
   "outputs": [
    {
     "name": "stderr",
     "output_type": "stream",
     "text": [
      "Loading required package: Seurat\n",
      "\n",
      "Warning message in fun(libname, pkgname):\n",
      "“rgeos: versions of GEOS runtime 3.10.3-CAPI-1.16.1\n",
      "and GEOS at installation 3.7.2-CAPI-1.11.2differ”\n",
      "Attaching SeuratObject\n",
      "\n",
      "Attaching sp\n",
      "\n",
      "\n",
      "Attaching package: ‘Seurat’\n",
      "\n",
      "\n",
      "The following object is masked from ‘package:SummarizedExperiment’:\n",
      "\n",
      "    Assays\n",
      "\n",
      "\n"
     ]
    },
    {
     "data": {
      "text/plain": [
       "An object of class Seurat \n",
       "58559 features across 32701 samples within 1 assay \n",
       "Active assay: RNA (58559 features, 0 variable features)\n",
       " 4 dimensional reductions calculated: pca, scvi, scvi_umap, umap"
      ]
     },
     "metadata": {},
     "output_type": "display_data"
    }
   ],
   "source": [
    "data"
   ]
  },
  {
   "cell_type": "code",
   "execution_count": 27,
   "id": "d705a3e5-a820-4ab7-affd-72308dd96f5e",
   "metadata": {},
   "outputs": [
    {
     "data": {
      "text/html": [
       "<style>\n",
       ".list-inline {list-style: none; margin:0; padding: 0}\n",
       ".list-inline>li {display: inline-block}\n",
       ".list-inline>li:not(:last-child)::after {content: \"\\00b7\"; padding: 0 .5ex}\n",
       "</style>\n",
       "<ol class=list-inline><li>endothelial cell of hepatic sinusoid</li><li>endothelial cell</li><li>endothelial cell of lymphatic vessel</li><li>vein endothelial cell</li><li>endothelial cell of artery</li><li>capillary endothelial cell</li><li>retinal blood vessel endothelial cell</li><li>cardiac endothelial cell</li><li>endothelial cell of vascular tree</li><li>gut endothelial cell</li><li>bronchial vessel endothelial cell</li><li>vein or capillary endothelial cell</li><li>artery endothelial cell</li><li>lymphatic endothelial cells</li><li>capillary aerocyte</li><li>lung microvascular endothelial cell</li></ol>\n",
       "\n",
       "<details>\n",
       "\t<summary style=display:list-item;cursor:pointer>\n",
       "\t\t<strong>Levels</strong>:\n",
       "\t</summary>\n",
       "\t<style>\n",
       "\t.list-inline {list-style: none; margin:0; padding: 0}\n",
       "\t.list-inline>li {display: inline-block}\n",
       "\t.list-inline>li:not(:last-child)::after {content: \"\\00b7\"; padding: 0 .5ex}\n",
       "\t</style>\n",
       "\t<ol class=list-inline><li>'artery endothelial cell'</li><li>'bronchial vessel endothelial cell'</li><li>'capillary aerocyte'</li><li>'capillary endothelial cell'</li><li>'cardiac endothelial cell'</li><li>'endothelial cell'</li><li>'endothelial cell of artery'</li><li>'endothelial cell of hepatic sinusoid'</li><li>'endothelial cell of lymphatic vessel'</li><li>'endothelial cell of vascular tree'</li><li>'gut endothelial cell'</li><li>'lung microvascular endothelial cell'</li><li>'lymphatic endothelial cells'</li><li>'retinal blood vessel endothelial cell'</li><li>'vein endothelial cell'</li><li>'vein or capillary endothelial cell'</li></ol>\n",
       "</details>"
      ],
      "text/latex": [
       "\\begin{enumerate*}\n",
       "\\item endothelial cell of hepatic sinusoid\n",
       "\\item endothelial cell\n",
       "\\item endothelial cell of lymphatic vessel\n",
       "\\item vein endothelial cell\n",
       "\\item endothelial cell of artery\n",
       "\\item capillary endothelial cell\n",
       "\\item retinal blood vessel endothelial cell\n",
       "\\item cardiac endothelial cell\n",
       "\\item endothelial cell of vascular tree\n",
       "\\item gut endothelial cell\n",
       "\\item bronchial vessel endothelial cell\n",
       "\\item vein or capillary endothelial cell\n",
       "\\item artery endothelial cell\n",
       "\\item lymphatic endothelial cells\n",
       "\\item capillary aerocyte\n",
       "\\item lung microvascular endothelial cell\n",
       "\\end{enumerate*}\n",
       "\n",
       "\\emph{Levels}: \\begin{enumerate*}\n",
       "\\item 'artery endothelial cell'\n",
       "\\item 'bronchial vessel endothelial cell'\n",
       "\\item 'capillary aerocyte'\n",
       "\\item 'capillary endothelial cell'\n",
       "\\item 'cardiac endothelial cell'\n",
       "\\item 'endothelial cell'\n",
       "\\item 'endothelial cell of artery'\n",
       "\\item 'endothelial cell of hepatic sinusoid'\n",
       "\\item 'endothelial cell of lymphatic vessel'\n",
       "\\item 'endothelial cell of vascular tree'\n",
       "\\item 'gut endothelial cell'\n",
       "\\item 'lung microvascular endothelial cell'\n",
       "\\item 'lymphatic endothelial cells'\n",
       "\\item 'retinal blood vessel endothelial cell'\n",
       "\\item 'vein endothelial cell'\n",
       "\\item 'vein or capillary endothelial cell'\n",
       "\\end{enumerate*}\n"
      ],
      "text/markdown": [
       "1. endothelial cell of hepatic sinusoid\n",
       "2. endothelial cell\n",
       "3. endothelial cell of lymphatic vessel\n",
       "4. vein endothelial cell\n",
       "5. endothelial cell of artery\n",
       "6. capillary endothelial cell\n",
       "7. retinal blood vessel endothelial cell\n",
       "8. cardiac endothelial cell\n",
       "9. endothelial cell of vascular tree\n",
       "10. gut endothelial cell\n",
       "11. bronchial vessel endothelial cell\n",
       "12. vein or capillary endothelial cell\n",
       "13. artery endothelial cell\n",
       "14. lymphatic endothelial cells\n",
       "15. capillary aerocyte\n",
       "16. lung microvascular endothelial cell\n",
       "\n",
       "\n",
       "\n",
       "**Levels**: 1. 'artery endothelial cell'\n",
       "2. 'bronchial vessel endothelial cell'\n",
       "3. 'capillary aerocyte'\n",
       "4. 'capillary endothelial cell'\n",
       "5. 'cardiac endothelial cell'\n",
       "6. 'endothelial cell'\n",
       "7. 'endothelial cell of artery'\n",
       "8. 'endothelial cell of hepatic sinusoid'\n",
       "9. 'endothelial cell of lymphatic vessel'\n",
       "10. 'endothelial cell of vascular tree'\n",
       "11. 'gut endothelial cell'\n",
       "12. 'lung microvascular endothelial cell'\n",
       "13. 'lymphatic endothelial cells'\n",
       "14. 'retinal blood vessel endothelial cell'\n",
       "15. 'vein endothelial cell'\n",
       "16. 'vein or capillary endothelial cell'\n",
       "\n",
       "\n"
      ],
      "text/plain": [
       " [1] endothelial cell of hepatic sinusoid  endothelial cell                     \n",
       " [3] endothelial cell of lymphatic vessel  vein endothelial cell                \n",
       " [5] endothelial cell of artery            capillary endothelial cell           \n",
       " [7] retinal blood vessel endothelial cell cardiac endothelial cell             \n",
       " [9] endothelial cell of vascular tree     gut endothelial cell                 \n",
       "[11] bronchial vessel endothelial cell     vein or capillary endothelial cell   \n",
       "[13] artery endothelial cell               lymphatic endothelial cells          \n",
       "[15] capillary aerocyte                    lung microvascular endothelial cell  \n",
       "16 Levels: artery endothelial cell ... vein or capillary endothelial cell"
      ]
     },
     "metadata": {},
     "output_type": "display_data"
    },
    {
     "data": {
      "text/html": [
       "<style>\n",
       ".list-inline {list-style: none; margin:0; padding: 0}\n",
       ".list-inline>li {display: inline-block}\n",
       ".list-inline>li:not(:last-child)::after {content: \"\\00b7\"; padding: 0 .5ex}\n",
       "</style>\n",
       "<ol class=list-inline><li>endothelial cell of hepatic sinusoid</li><li>endothelial cell</li><li>endothelial cell of lymphatic vessel</li><li>vein endothelial cell</li><li>endothelial cell of artery</li><li>capillary endothelial cell</li><li>retinal blood vessel endothelial cell</li><li>cardiac endothelial cell</li><li>endothelial cell of vascular tree</li><li>gut endothelial cell</li><li>blood vessel endothelial cell</li><li>lung microvascular endothelial cell</li></ol>\n",
       "\n",
       "<details>\n",
       "\t<summary style=display:list-item;cursor:pointer>\n",
       "\t\t<strong>Levels</strong>:\n",
       "\t</summary>\n",
       "\t<style>\n",
       "\t.list-inline {list-style: none; margin:0; padding: 0}\n",
       "\t.list-inline>li {display: inline-block}\n",
       "\t.list-inline>li:not(:last-child)::after {content: \"\\00b7\"; padding: 0 .5ex}\n",
       "\t</style>\n",
       "\t<ol class=list-inline><li>'blood vessel endothelial cell'</li><li>'capillary endothelial cell'</li><li>'cardiac endothelial cell'</li><li>'endothelial cell'</li><li>'endothelial cell of artery'</li><li>'endothelial cell of hepatic sinusoid'</li><li>'endothelial cell of lymphatic vessel'</li><li>'endothelial cell of vascular tree'</li><li>'gut endothelial cell'</li><li>'lung microvascular endothelial cell'</li><li>'retinal blood vessel endothelial cell'</li><li>'vein endothelial cell'</li></ol>\n",
       "</details>"
      ],
      "text/latex": [
       "\\begin{enumerate*}\n",
       "\\item endothelial cell of hepatic sinusoid\n",
       "\\item endothelial cell\n",
       "\\item endothelial cell of lymphatic vessel\n",
       "\\item vein endothelial cell\n",
       "\\item endothelial cell of artery\n",
       "\\item capillary endothelial cell\n",
       "\\item retinal blood vessel endothelial cell\n",
       "\\item cardiac endothelial cell\n",
       "\\item endothelial cell of vascular tree\n",
       "\\item gut endothelial cell\n",
       "\\item blood vessel endothelial cell\n",
       "\\item lung microvascular endothelial cell\n",
       "\\end{enumerate*}\n",
       "\n",
       "\\emph{Levels}: \\begin{enumerate*}\n",
       "\\item 'blood vessel endothelial cell'\n",
       "\\item 'capillary endothelial cell'\n",
       "\\item 'cardiac endothelial cell'\n",
       "\\item 'endothelial cell'\n",
       "\\item 'endothelial cell of artery'\n",
       "\\item 'endothelial cell of hepatic sinusoid'\n",
       "\\item 'endothelial cell of lymphatic vessel'\n",
       "\\item 'endothelial cell of vascular tree'\n",
       "\\item 'gut endothelial cell'\n",
       "\\item 'lung microvascular endothelial cell'\n",
       "\\item 'retinal blood vessel endothelial cell'\n",
       "\\item 'vein endothelial cell'\n",
       "\\end{enumerate*}\n"
      ],
      "text/markdown": [
       "1. endothelial cell of hepatic sinusoid\n",
       "2. endothelial cell\n",
       "3. endothelial cell of lymphatic vessel\n",
       "4. vein endothelial cell\n",
       "5. endothelial cell of artery\n",
       "6. capillary endothelial cell\n",
       "7. retinal blood vessel endothelial cell\n",
       "8. cardiac endothelial cell\n",
       "9. endothelial cell of vascular tree\n",
       "10. gut endothelial cell\n",
       "11. blood vessel endothelial cell\n",
       "12. lung microvascular endothelial cell\n",
       "\n",
       "\n",
       "\n",
       "**Levels**: 1. 'blood vessel endothelial cell'\n",
       "2. 'capillary endothelial cell'\n",
       "3. 'cardiac endothelial cell'\n",
       "4. 'endothelial cell'\n",
       "5. 'endothelial cell of artery'\n",
       "6. 'endothelial cell of hepatic sinusoid'\n",
       "7. 'endothelial cell of lymphatic vessel'\n",
       "8. 'endothelial cell of vascular tree'\n",
       "9. 'gut endothelial cell'\n",
       "10. 'lung microvascular endothelial cell'\n",
       "11. 'retinal blood vessel endothelial cell'\n",
       "12. 'vein endothelial cell'\n",
       "\n",
       "\n"
      ],
      "text/plain": [
       " [1] endothelial cell of hepatic sinusoid  endothelial cell                     \n",
       " [3] endothelial cell of lymphatic vessel  vein endothelial cell                \n",
       " [5] endothelial cell of artery            capillary endothelial cell           \n",
       " [7] retinal blood vessel endothelial cell cardiac endothelial cell             \n",
       " [9] endothelial cell of vascular tree     gut endothelial cell                 \n",
       "[11] blood vessel endothelial cell         lung microvascular endothelial cell  \n",
       "12 Levels: blood vessel endothelial cell ... vein endothelial cell"
      ]
     },
     "metadata": {},
     "output_type": "display_data"
    },
    {
     "data": {
      "text/html": [
       "<style>\n",
       ".list-inline {list-style: none; margin:0; padding: 0}\n",
       ".list-inline>li {display: inline-block}\n",
       ".list-inline>li:not(:last-child)::after {content: \"\\00b7\"; padding: 0 .5ex}\n",
       "</style>\n",
       "<ol class=list-inline><li>liver</li><li>trachea</li><li>lymph node</li><li>saliva-secreting gland</li><li>spleen</li><li>tongue</li><li>mammary gland</li><li>uterus</li><li>eye</li><li>adipose tissue</li><li>skin of body</li><li>heart</li><li>pancreas</li><li>prostate gland</li><li>muscle tissue</li><li>thymus</li><li>large intestine</li><li>lung</li><li>small intestine</li><li>vasculature</li><li>bladder organ</li><li>kidney</li></ol>\n",
       "\n",
       "<details>\n",
       "\t<summary style=display:list-item;cursor:pointer>\n",
       "\t\t<strong>Levels</strong>:\n",
       "\t</summary>\n",
       "\t<style>\n",
       "\t.list-inline {list-style: none; margin:0; padding: 0}\n",
       "\t.list-inline>li {display: inline-block}\n",
       "\t.list-inline>li:not(:last-child)::after {content: \"\\00b7\"; padding: 0 .5ex}\n",
       "\t</style>\n",
       "\t<ol class=list-inline><li>'adipose tissue'</li><li>'bladder organ'</li><li>'eye'</li><li>'heart'</li><li>'kidney'</li><li>'large intestine'</li><li>'liver'</li><li>'lung'</li><li>'lymph node'</li><li>'mammary gland'</li><li>'muscle tissue'</li><li>'pancreas'</li><li>'prostate gland'</li><li>'saliva-secreting gland'</li><li>'skin of body'</li><li>'small intestine'</li><li>'spleen'</li><li>'thymus'</li><li>'tongue'</li><li>'trachea'</li><li>'uterus'</li><li>'vasculature'</li></ol>\n",
       "</details>"
      ],
      "text/latex": [
       "\\begin{enumerate*}\n",
       "\\item liver\n",
       "\\item trachea\n",
       "\\item lymph node\n",
       "\\item saliva-secreting gland\n",
       "\\item spleen\n",
       "\\item tongue\n",
       "\\item mammary gland\n",
       "\\item uterus\n",
       "\\item eye\n",
       "\\item adipose tissue\n",
       "\\item skin of body\n",
       "\\item heart\n",
       "\\item pancreas\n",
       "\\item prostate gland\n",
       "\\item muscle tissue\n",
       "\\item thymus\n",
       "\\item large intestine\n",
       "\\item lung\n",
       "\\item small intestine\n",
       "\\item vasculature\n",
       "\\item bladder organ\n",
       "\\item kidney\n",
       "\\end{enumerate*}\n",
       "\n",
       "\\emph{Levels}: \\begin{enumerate*}\n",
       "\\item 'adipose tissue'\n",
       "\\item 'bladder organ'\n",
       "\\item 'eye'\n",
       "\\item 'heart'\n",
       "\\item 'kidney'\n",
       "\\item 'large intestine'\n",
       "\\item 'liver'\n",
       "\\item 'lung'\n",
       "\\item 'lymph node'\n",
       "\\item 'mammary gland'\n",
       "\\item 'muscle tissue'\n",
       "\\item 'pancreas'\n",
       "\\item 'prostate gland'\n",
       "\\item 'saliva-secreting gland'\n",
       "\\item 'skin of body'\n",
       "\\item 'small intestine'\n",
       "\\item 'spleen'\n",
       "\\item 'thymus'\n",
       "\\item 'tongue'\n",
       "\\item 'trachea'\n",
       "\\item 'uterus'\n",
       "\\item 'vasculature'\n",
       "\\end{enumerate*}\n"
      ],
      "text/markdown": [
       "1. liver\n",
       "2. trachea\n",
       "3. lymph node\n",
       "4. saliva-secreting gland\n",
       "5. spleen\n",
       "6. tongue\n",
       "7. mammary gland\n",
       "8. uterus\n",
       "9. eye\n",
       "10. adipose tissue\n",
       "11. skin of body\n",
       "12. heart\n",
       "13. pancreas\n",
       "14. prostate gland\n",
       "15. muscle tissue\n",
       "16. thymus\n",
       "17. large intestine\n",
       "18. lung\n",
       "19. small intestine\n",
       "20. vasculature\n",
       "21. bladder organ\n",
       "22. kidney\n",
       "\n",
       "\n",
       "\n",
       "**Levels**: 1. 'adipose tissue'\n",
       "2. 'bladder organ'\n",
       "3. 'eye'\n",
       "4. 'heart'\n",
       "5. 'kidney'\n",
       "6. 'large intestine'\n",
       "7. 'liver'\n",
       "8. 'lung'\n",
       "9. 'lymph node'\n",
       "10. 'mammary gland'\n",
       "11. 'muscle tissue'\n",
       "12. 'pancreas'\n",
       "13. 'prostate gland'\n",
       "14. 'saliva-secreting gland'\n",
       "15. 'skin of body'\n",
       "16. 'small intestine'\n",
       "17. 'spleen'\n",
       "18. 'thymus'\n",
       "19. 'tongue'\n",
       "20. 'trachea'\n",
       "21. 'uterus'\n",
       "22. 'vasculature'\n",
       "\n",
       "\n"
      ],
      "text/plain": [
       " [1] liver                  trachea                lymph node            \n",
       " [4] saliva-secreting gland spleen                 tongue                \n",
       " [7] mammary gland          uterus                 eye                   \n",
       "[10] adipose tissue         skin of body           heart                 \n",
       "[13] pancreas               prostate gland         muscle tissue         \n",
       "[16] thymus                 large intestine        lung                  \n",
       "[19] small intestine        vasculature            bladder organ         \n",
       "[22] kidney                \n",
       "22 Levels: adipose tissue bladder organ eye heart kidney ... vasculature"
      ]
     },
     "metadata": {},
     "output_type": "display_data"
    },
    {
     "data": {
      "text/html": [
       "TRUE"
      ],
      "text/latex": [
       "TRUE"
      ],
      "text/markdown": [
       "TRUE"
      ],
      "text/plain": [
       "[1] TRUE"
      ]
     },
     "metadata": {},
     "output_type": "display_data"
    }
   ],
   "source": [
    "unique(data@meta.data$cell_ontology_class)\n",
    "unique(data@meta.data$cell_type)\n",
    "unique(data@meta.data$tissue)\n",
    "unique(data@meta.data$manually_annotated)"
   ]
  },
  {
   "cell_type": "code",
   "execution_count": 28,
   "id": "5ce5e7b6-e682-451f-a4f4-9e7ec74be5fa",
   "metadata": {},
   "outputs": [
    {
     "data": {
      "image/png": "[encoded data removed]",
      "text/plain": [
       "plot without title"
      ]
     },
     "metadata": {
      "image/png": {
       "height": 300,
       "width": 720
      }
     },
     "output_type": "display_data"
    }
   ],
   "source": [
    "options(repr.plot.width=12, repr.plot.height=5)\n",
    "DimPlot(data, group.by = 'tissue', reduction = 'umap')"
   ]
  },
  {
   "cell_type": "code",
   "execution_count": 29,
   "id": "2e14ab43-3735-4210-8cf2-e5d0cb5d374a",
   "metadata": {},
   "outputs": [],
   "source": [
    "data@meta.data$truth = data@meta.data$tissue\n",
    "# head(data)"
   ]
  },
  {
   "cell_type": "code",
   "execution_count": 180,
   "id": "1c59c72e-6184-4586-a2a8-24ee5cc132c4",
   "metadata": {},
   "outputs": [],
   "source": [
    "saveRDS(data, './real_data//raw/tabula_sapiens_tissue.rds')"
   ]
  },
  {
   "cell_type": "markdown",
   "id": "0fe9961c-3031-4d7f-9cb6-7a2c076d5ebd",
   "metadata": {},
   "source": [
    "## DmelSpatial data"
   ]
  },
  {
   "cell_type": "code",
   "execution_count": 30,
   "id": "d9cd3834-54a7-45f2-b4b3-a3b384ce0a18",
   "metadata": {},
   "outputs": [
    {
     "data": {
      "text/plain": [
       "class: SingleCellExperiment \n",
       "dim: 13668 15295 \n",
       "metadata(1): study\n",
       "assays(1): counts\n",
       "rownames(13668): 128up 14-3-3epsilon ... zyd zye\n",
       "rowData names(0):\n",
       "colnames(15295): E14-16h_a_S01_20500x62780-0\n",
       "  E14-16h_a_S01_20500x62800-0 ... E14-16h_a_S16_61760x79380-15\n",
       "  E14-16h_a_S16_61760x79400-15\n",
       "colData names(7): slice_ID raw_x ... new_z annotation\n",
       "reducedDimNames(0):\n",
       "mainExpName: NULL\n",
       "altExpNames(0):"
      ]
     },
     "metadata": {},
     "output_type": "display_data"
    }
   ],
   "source": [
    "# data = readRDS('/project/CorrAnalysis/02.Projects/ClusteringMtd/02.outputs/03.Spatial/E14-16h/E14-16h_raw_sce.rds')\n",
    "data = readRDS('download_raw_data_scripts/E14-16h_raw_sce.rds')\n",
    "data"
   ]
  },
  {
   "cell_type": "code",
   "execution_count": 31,
   "id": "7da8d22f-457f-480a-a37e-47e711f2e04d",
   "metadata": {},
   "outputs": [],
   "source": [
    "colData(data)$truth = colData(data)$annotation\n",
    "saveRDS(data, 'real_data//raw/dmel_E14-16h.rds')"
   ]
  },
  {
   "cell_type": "markdown",
   "id": "1cafe9b6-4f03-426a-8eaf-e0b9ec5596af",
   "metadata": {},
   "source": [
    "## check rownames"
   ]
  },
  {
   "cell_type": "code",
   "execution_count": 181,
   "id": "5820679f-6303-449b-b758-4aa6fd40b5a0",
   "metadata": {},
   "outputs": [],
   "source": [
    "# files = list.files('/project/CAclust/data/CAbiNET_benchmarking_data/data/', pattern = '*.rds', full.names = T)\n",
    "# for (file in files){\n",
    "#     data = readRDS(file)\n",
    "#     print(file)\n",
    "#     print(head(rownames(data)))\n",
    "# }"
   ]
  },
  {
   "cell_type": "markdown",
   "id": "613677fd-fe96-4981-89f3-dbd25ce9a6fc",
   "metadata": {},
   "source": [
    "## check size of preprocessed datasets"
   ]
  },
  {
   "cell_type": "code",
   "execution_count": 1,
   "id": "f96e7a88-a055-4e1b-b15b-807bd113d61c",
   "metadata": {
    "tags": []
   },
   "outputs": [],
   "source": [
    "# files = list.files('real_data//preprocessed', pattern = '.rds', full.names = T)\n",
    "# df = data.frame()\n",
    "# for (file in files){\n",
    "\n",
    "#     # file = list.files(datadir, '*.rds', full.name = T)\n",
    "    \n",
    "#     if (!(length(file) == 0)){\n",
    "#         dataset = stringr::word(datadir, -1, -1,'/')\n",
    "#         data = readRDS(file)\n",
    "#         df = rbind(df, data.frame(dataset = dataset, \n",
    "#                                   ngene = dim(data)[1], \n",
    "#                                   ncell = dim(data)[2]))\n",
    "#         }\n",
    "# }\n",
    "# df = df[order(df$ncell),]\n",
    "# df"
   ]
  },
  {
   "cell_type": "code",
   "execution_count": null,
   "id": "f07d87c5-edbf-4c5d-b691-416c6cd2ab3f",
   "metadata": {},
   "outputs": [],
   "source": []
  }
 ],
 "metadata": {
  "kernelspec": {
   "display_name": "R 4.1",
   "language": "R",
   "name": "ir41"
  },
  "language_info": {
   "codemirror_mode": "r",
   "file_extension": ".r",
   "mimetype": "text/x-r-source",
   "name": "R",
   "pygments_lexer": "r",
   "version": "4.1.0"
  }
 },
 "nbformat": 4,
 "nbformat_minor": 5
}
